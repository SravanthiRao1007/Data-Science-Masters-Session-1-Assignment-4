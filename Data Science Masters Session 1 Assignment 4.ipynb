{
 "cells": [
  {
   "cell_type": "code",
   "execution_count": 5,
   "metadata": {},
   "outputs": [
    {
     "name": "stdout",
     "output_type": "stream",
     "text": [
      " The volume is 904.7779199999999 cubic cm.\n",
      " The volume is 904.78 cubic cm.\n"
     ]
    }
   ],
   "source": [
    "# Sravanthi's Session 1 Assignment 4 \n",
    "# Finding Volume of a sphere with given Diameter\n",
    "# Taking Fraction value of pi=3.14159\n",
    "d = 12\n",
    "V=4/3*3.14159*(d/2)*(d/2)*(d/2)\n",
    "# Printing the volume without rounding off\n",
    "print(\" The volume is \" + str(V) + \" cubic cm.\" )\n",
    "# Printing the volume post rounding to two digits after decimal point\n",
    "print(\" The volume is \" + str(round(V,2)) + \" cubic cm.\" )\n"
   ]
  },
  {
   "cell_type": "code",
   "execution_count": null,
   "metadata": {},
   "outputs": [],
   "source": []
  }
 ],
 "metadata": {
  "kernelspec": {
   "display_name": "Python 3",
   "language": "python",
   "name": "python3"
  },
  "language_info": {
   "codemirror_mode": {
    "name": "ipython",
    "version": 3
   },
   "file_extension": ".py",
   "mimetype": "text/x-python",
   "name": "python",
   "nbconvert_exporter": "python",
   "pygments_lexer": "ipython3",
   "version": "3.6.5"
  }
 },
 "nbformat": 4,
 "nbformat_minor": 2
}
